{
  "cells": [
    {
      "cell_type": "code",
      "execution_count": 19,
      "metadata": {
        "colab": {
          "base_uri": "https://localhost:8080/",
          "height": 443
        },
        "id": "ge50DuEWANP3",
        "outputId": "b0f9cbad-27d6-42a7-dc6b-9985452cb84d"
      },
      "outputs": [
        {
          "data": {
            "text/html": [
              "<div>\n",
              "<style scoped>\n",
              "    .dataframe tbody tr th:only-of-type {\n",
              "        vertical-align: middle;\n",
              "    }\n",
              "\n",
              "    .dataframe tbody tr th {\n",
              "        vertical-align: top;\n",
              "    }\n",
              "\n",
              "    .dataframe thead th {\n",
              "        text-align: right;\n",
              "    }\n",
              "</style>\n",
              "<table border=\"1\" class=\"dataframe\">\n",
              "  <thead>\n",
              "    <tr style=\"text-align: right;\">\n",
              "      <th></th>\n",
              "      <th>Key</th>\n",
              "      <th>processed_llama_answers.json</th>\n",
              "      <th>processed_my_llama_answers.json</th>\n",
              "      <th>paper1.json</th>\n",
              "      <th>clip_similarities.json</th>\n",
              "      <th>clip_text_similarities.json</th>\n",
              "      <th>sem_sim_data_all237_minilm.json</th>\n",
              "      <th>sem_sim_wiki.json</th>\n",
              "    </tr>\n",
              "  </thead>\n",
              "  <tbody>\n",
              "    <tr>\n",
              "      <th>0</th>\n",
              "      <td>set0</td>\n",
              "      <td>1</td>\n",
              "      <td>1</td>\n",
              "      <td>1</td>\n",
              "      <td>0</td>\n",
              "      <td>0</td>\n",
              "      <td>0</td>\n",
              "      <td>0</td>\n",
              "    </tr>\n",
              "    <tr>\n",
              "      <th>1</th>\n",
              "      <td>set1</td>\n",
              "      <td>2</td>\n",
              "      <td>2</td>\n",
              "      <td>1</td>\n",
              "      <td>1</td>\n",
              "      <td>0</td>\n",
              "      <td>1</td>\n",
              "      <td>0</td>\n",
              "    </tr>\n",
              "    <tr>\n",
              "      <th>2</th>\n",
              "      <td>set2</td>\n",
              "      <td>4</td>\n",
              "      <td>2</td>\n",
              "      <td>1</td>\n",
              "      <td>0</td>\n",
              "      <td>0</td>\n",
              "      <td>0</td>\n",
              "      <td>2</td>\n",
              "    </tr>\n",
              "    <tr>\n",
              "      <th>3</th>\n",
              "      <td>set3</td>\n",
              "      <td>4</td>\n",
              "      <td>2</td>\n",
              "      <td>1</td>\n",
              "      <td>0</td>\n",
              "      <td>0</td>\n",
              "      <td>0</td>\n",
              "      <td>0</td>\n",
              "    </tr>\n",
              "    <tr>\n",
              "      <th>4</th>\n",
              "      <td>set4</td>\n",
              "      <td>4</td>\n",
              "      <td>3</td>\n",
              "      <td>0</td>\n",
              "      <td>0</td>\n",
              "      <td>0</td>\n",
              "      <td>1</td>\n",
              "      <td>0</td>\n",
              "    </tr>\n",
              "    <tr>\n",
              "      <th>...</th>\n",
              "      <td>...</td>\n",
              "      <td>...</td>\n",
              "      <td>...</td>\n",
              "      <td>...</td>\n",
              "      <td>...</td>\n",
              "      <td>...</td>\n",
              "      <td>...</td>\n",
              "      <td>...</td>\n",
              "    </tr>\n",
              "    <tr>\n",
              "      <th>195</th>\n",
              "      <td>set195</td>\n",
              "      <td>1</td>\n",
              "      <td>4</td>\n",
              "      <td>0</td>\n",
              "      <td>0</td>\n",
              "      <td>0</td>\n",
              "      <td>1</td>\n",
              "      <td>0</td>\n",
              "    </tr>\n",
              "    <tr>\n",
              "      <th>196</th>\n",
              "      <td>set196</td>\n",
              "      <td>2</td>\n",
              "      <td>2</td>\n",
              "      <td>0</td>\n",
              "      <td>0</td>\n",
              "      <td>0</td>\n",
              "      <td>0</td>\n",
              "      <td>0</td>\n",
              "    </tr>\n",
              "    <tr>\n",
              "      <th>197</th>\n",
              "      <td>set197</td>\n",
              "      <td>4</td>\n",
              "      <td>2</td>\n",
              "      <td>0</td>\n",
              "      <td>0</td>\n",
              "      <td>0</td>\n",
              "      <td>0</td>\n",
              "      <td>0</td>\n",
              "    </tr>\n",
              "    <tr>\n",
              "      <th>198</th>\n",
              "      <td>set198</td>\n",
              "      <td>1</td>\n",
              "      <td>2</td>\n",
              "      <td>1</td>\n",
              "      <td>0</td>\n",
              "      <td>0</td>\n",
              "      <td>0</td>\n",
              "      <td>0</td>\n",
              "    </tr>\n",
              "    <tr>\n",
              "      <th>199</th>\n",
              "      <td>set199</td>\n",
              "      <td>4</td>\n",
              "      <td>4</td>\n",
              "      <td>0</td>\n",
              "      <td>0</td>\n",
              "      <td>0</td>\n",
              "      <td>0</td>\n",
              "      <td>2</td>\n",
              "    </tr>\n",
              "  </tbody>\n",
              "</table>\n",
              "<p>200 rows × 8 columns</p>\n",
              "</div>"
            ],
            "text/plain": [
              "        Key  processed_llama_answers.json  processed_my_llama_answers.json  \\\n",
              "0      set0                             1                                1   \n",
              "1      set1                             2                                2   \n",
              "2      set2                             4                                2   \n",
              "3      set3                             4                                2   \n",
              "4      set4                             4                                3   \n",
              "..      ...                           ...                              ...   \n",
              "195  set195                             1                                4   \n",
              "196  set196                             2                                2   \n",
              "197  set197                             4                                2   \n",
              "198  set198                             1                                2   \n",
              "199  set199                             4                                4   \n",
              "\n",
              "     paper1.json  clip_similarities.json  clip_text_similarities.json  \\\n",
              "0              1                       0                            0   \n",
              "1              1                       1                            0   \n",
              "2              1                       0                            0   \n",
              "3              1                       0                            0   \n",
              "4              0                       0                            0   \n",
              "..           ...                     ...                          ...   \n",
              "195            0                       0                            0   \n",
              "196            0                       0                            0   \n",
              "197            0                       0                            0   \n",
              "198            1                       0                            0   \n",
              "199            0                       0                            0   \n",
              "\n",
              "     sem_sim_data_all237_minilm.json  sem_sim_wiki.json  \n",
              "0                                  0                  0  \n",
              "1                                  1                  0  \n",
              "2                                  0                  2  \n",
              "3                                  0                  0  \n",
              "4                                  1                  0  \n",
              "..                               ...                ...  \n",
              "195                                1                  0  \n",
              "196                                0                  0  \n",
              "197                                0                  0  \n",
              "198                                0                  0  \n",
              "199                                0                  2  \n",
              "\n",
              "[200 rows x 8 columns]"
            ]
          },
          "execution_count": 19,
          "metadata": {},
          "output_type": "execute_result"
        }
      ],
      "source": [
        "import pandas as pd\n",
        "\n",
        "df = pd.read_excel(\"comparison_results.xlsx\")\n",
        "df"
      ]
    },
    {
      "cell_type": "code",
      "execution_count": 20,
      "metadata": {
        "colab": {
          "base_uri": "https://localhost:8080/",
          "height": 35
        },
        "id": "1bxh10IEANP3",
        "outputId": "35430b7e-cf5b-4041-d240-594a74e9ee4d"
      },
      "outputs": [
        {
          "data": {
            "text/plain": [
              "'processed_llama_answers'"
            ]
          },
          "execution_count": 20,
          "metadata": {},
          "output_type": "execute_result"
        }
      ],
      "source": [
        "df.columns[1].split(\".json\")[0]"
      ]
    },
    {
      "cell_type": "code",
      "execution_count": 21,
      "metadata": {
        "id": "UTp-lQ5uANP3"
      },
      "outputs": [],
      "source": [
        "for column in df.columns:\n",
        "    df[column] = pd.to_numeric(df[column],errors='coerce').fillna(0)\n",
        "    new_col_name = \"result\"+column.split(\".json\")[0]\n",
        "    df[new_col_name] = df[column].apply( lambda x: \"complete\" if x == 4 else \"partial\" if 0 < x < 4 else \"fail\" )\n",
        "df.to_excel(\"test.xlsx\", index=False)\n"
      ]
    },
    {
      "cell_type": "code",
      "execution_count": 22,
      "metadata": {
        "colab": {
          "base_uri": "https://localhost:8080/",
          "height": 607
        },
        "id": "t0_rHq_rBxQ_",
        "outputId": "8f1a75bd-dfc6-46bd-f9c6-189b16146358"
      },
      "outputs": [
        {
          "data": {
            "image/png": "[encoded data removed]",
            "text/plain": [
              "<Figure size 1000x600 with 1 Axes>"
            ]
          },
          "metadata": {},
          "output_type": "display_data"
        }
      ],
      "source": [
        "import matplotlib.pyplot as plt\n",
        "import numpy as np\n",
        "import pandas as pd\n",
        "\n",
        "# Get value counts for each column\n",
        "llama_counts = df['resultprocessed_llama_answers'].value_counts()\n",
        "my_llama_counts = df['resultprocessed_my_llama_answers'].value_counts()\n",
        "\n",
        "# Get unique categories and their indices\n",
        "categories = llama_counts.index.union(my_llama_counts.index)\n",
        "x_pos = np.arange(len(categories))\n",
        "\n",
        "# Width of the bars\n",
        "width = 0.35\n",
        "\n",
        "# Create the plot\n",
        "fig, ax = plt.subplots(figsize=(10, 6))\n",
        "\n",
        "# Plot the bars side-by-side\n",
        "ax.bar(x_pos - width/2, llama_counts.reindex(categories).fillna(0), width, label='v')\n",
        "ax.bar(x_pos + width/2, my_llama_counts.reindex(categories).fillna(0), width, label='vii')\n",
        "\n",
        "# Set labels, title, and legend\n",
        "ax.set_ylabel('Count')\n",
        "ax.set_title('Side-by-Side Comparison of Llama Answers')\n",
        "ax.set_xticks(x_pos)\n",
        "ax.set_xticklabels(categories, ha='right')  # Rotate x-axis labels\n",
        "ax.legend()\n",
        "\n",
        "# Adjust layout\n",
        "plt.tight_layout()\n",
        "plt.show()"
      ]
    },
    {
      "cell_type": "code",
      "execution_count": 23,
      "metadata": {
        "colab": {
          "base_uri": "https://localhost:8080/",
          "height": 707
        },
        "id": "F8lQIFrbCrh2",
        "outputId": "1883435f-9245-463c-fa02-94625ef5aa46"
      },
      "outputs": [
        {
          "data": {
            "image/png": "[encoded data removed]",
            "text/plain": [
              "<Figure size 1000x700 with 1 Axes>"
            ]
          },
          "metadata": {},
          "output_type": "display_data"
        }
      ],
      "source": [
        "import matplotlib.pyplot as plt\n",
        "import numpy as np\n",
        "import pandas as pd\n",
        "\n",
        "# Define the columns you want to compare\n",
        "columns_to_compare = [\n",
        "    'paper1.json',\n",
        "    'sem_sim_wiki.json',\n",
        "    'clip_similarities.json',\n",
        "    'clip_text_similarities.json',\n",
        "    'processed_llama_answers.json',\n",
        "    'sem_sim_data_all237_minilm.json',\n",
        "    'processed_my_llama_answers.json',\n",
        "]\n",
        "\n",
        "# Calculate the total score for each column\n",
        "total_scores = df[columns_to_compare].sum()\n",
        "total_scores = total_scores.sort_values()\n",
        "label_mapping_display = {\n",
        "\n",
        "\n",
        "    'paper1.json': 'i',\n",
        "    'sem_sim_wiki.json':'ii',\n",
        "    'clip_similarities.json':'iii',\n",
        "    'clip_text_similarities.json':'iv',\n",
        "    'processed_llama_answers.json': 'v',\n",
        "    'sem_sim_data_all237_minilm.json':'vi',\n",
        "    'processed_my_llama_answers.json': 'vii',\n",
        "\n",
        "}\n",
        "# Create the bar chart\n",
        "plt.figure(figsize=(10, 7))\n",
        "bars=plt.bar(total_scores.index, total_scores.values, )\n",
        "plt.title('Comparison of All Columns')\n",
        "plt.xlabel('Columns')\n",
        "plt.ylabel('Total Score')\n",
        "plt.xticks(total_scores.index, [label_mapping_display[col] for col in total_scores.index], ha='right')\n",
        "for bar in bars:\n",
        "    height = bar.get_height()\n",
        "    plt.text(bar.get_x() + bar.get_width() / 2, height + 0.5,\n",
        "             int(height), ha='center', va='bottom')\n",
        "plt.tight_layout()\n",
        "plt.show()"
      ]
    },
    {
      "cell_type": "code",
      "execution_count": null,
      "metadata": {
        "id": "ILjzdCD7B0j9"
      },
      "outputs": [],
      "source": []
    }
  ],
  "metadata": {
    "colab": {
      "provenance": []
    },
    "kernelspec": {
      "display_name": "Python 3",
      "language": "python",
      "name": "python3"
    },
    "language_info": {
      "codemirror_mode": {
        "name": "ipython",
        "version": 3
      },
      "file_extension": ".py",
      "mimetype": "text/x-python",
      "name": "python",
      "nbconvert_exporter": "python",
      "pygments_lexer": "ipython3",
      "version": "3.9.13"
    }
  },
  "nbformat": 4,
  "nbformat_minor": 0
}
